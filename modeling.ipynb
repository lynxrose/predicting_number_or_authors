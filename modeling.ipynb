{
 "metadata": {
  "language_info": {
   "codemirror_mode": {
    "name": "ipython",
    "version": 3
   },
   "file_extension": ".py",
   "mimetype": "text/x-python",
   "name": "python",
   "nbconvert_exporter": "python",
   "pygments_lexer": "ipython3",
   "version": "3.7.0-final"
  },
  "orig_nbformat": 2,
  "kernelspec": {
   "name": "python3",
   "display_name": "Python 3",
   "language": "python"
  }
 },
 "nbformat": 4,
 "nbformat_minor": 2,
 "cells": [
  {
   "cell_type": "code",
   "execution_count": 2,
   "metadata": {},
   "outputs": [],
   "source": [
    "import pandas as pd \n",
    "import string\n",
    "import unicodedata\n",
    "from nltk.corpus import stopwords\n",
    "from nltk.tokenize import word_tokenize\n",
    "from sklearn.feature_extraction.text import TfidfVectorizer\n",
    "from sklearn.feature_selection import \n",
    "\n",
    "data = pd.read_csv('data/research_data.csv')"
   ]
  },
  {
   "cell_type": "code",
   "execution_count": 32,
   "metadata": {},
   "outputs": [
    {
     "output_type": "execute_result",
     "data": {
      "text/plain": [
       "<3x4483 sparse matrix of type '<class 'numpy.float64'>'\n",
       "\twith 5567 stored elements in Compressed Sparse Row format>"
      ]
     },
     "metadata": {},
     "execution_count": 32
    }
   ],
   "source": [
    "vectorizor = TfidfVectorizer(stop_words = 'english')\n",
    "vectorizor.fit_transform(testdoc)\n",
    "vectorizor.fit()"
   ]
  },
  {
   "cell_type": "code",
   "execution_count": null,
   "metadata": {},
   "outputs": [],
   "source": [
    "stopwords_ = list(stopwords.words('english'))\n",
    "stopwords_ = stopwords_ + (['\\x9d','\\n','\\xef','\\xac','\\x81','\\xe2','\\x80','\\x9c','\\xe2','\\x80','\\x9c','\\x0c','\\xef','\\x81','\\xc3','\\xbc','\\x0c','\\x88','\\x92','\\x82','\\x92','\\x99','\\x84','\\x93','\\x87','\\x97']+(list('1234567890')))"
   ]
  }
 ]
}