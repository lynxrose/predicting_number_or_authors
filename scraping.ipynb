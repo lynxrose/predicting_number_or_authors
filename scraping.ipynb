{
 "metadata": {
  "language_info": {
   "codemirror_mode": {
    "name": "ipython",
    "version": 3
   },
   "file_extension": ".py",
   "mimetype": "text/x-python",
   "name": "python",
   "nbconvert_exporter": "python",
   "pygments_lexer": "ipython3",
   "version": "3.7.0-final"
  },
  "orig_nbformat": 2,
  "kernelspec": {
   "name": "python3",
   "display_name": "Python 3",
   "language": "python"
  }
 },
 "nbformat": 4,
 "nbformat_minor": 2,
 "cells": [
  {
   "cell_type": "code",
   "execution_count": 2,
   "metadata": {
    "tags": []
   },
   "outputs": [],
   "source": [
    "import requests\n",
    "import pandas as pd \n",
    "import re\n",
    "import time\n",
    "from tqdm import tqdm"
   ]
  },
  {
   "cell_type": "code",
   "execution_count": 4,
   "metadata": {},
   "outputs": [],
   "source": [
    "data = pd.read_json('data/arxivData.json')"
   ]
  },
  {
   "cell_type": "code",
   "execution_count": 148,
   "metadata": {},
   "outputs": [],
   "source": [
    "id_list = list(data['id'])"
   ]
  },
  {
   "cell_type": "code",
   "execution_count": 158,
   "metadata": {},
   "outputs": [
    {
     "output_type": "execute_result",
     "data": {
      "text/plain": [
       "'cs/0502086v1'"
      ]
     },
     "metadata": {},
     "execution_count": 158
    }
   ],
   "source": [
    "id_list[415]"
   ]
  },
  {
   "cell_type": "code",
   "execution_count": 165,
   "metadata": {},
   "outputs": [
    {
     "output_type": "execute_result",
     "data": {
      "text/plain": [
       "\"[{'rel': 'alternate', 'href': 'http://arxiv.org/abs/cs/0502086v1', 'type': 'text/html'}, {'rel': 'related', 'href': 'http://arxiv.org/pdf/cs/0502086v1', 'type': 'application/pdf', 'title': 'pdf'}]\""
      ]
     },
     "metadata": {},
     "execution_count": 165
    }
   ],
   "source": [
    "data.link[415]"
   ]
  },
  {
   "cell_type": "code",
   "execution_count": 164,
   "metadata": {},
   "outputs": [
    {
     "output_type": "execute_result",
     "data": {
      "text/plain": [
       "                                                  author  day            id  \\\n",
       "415                    [{'name': 'Pierre-Yves Oudeyer'}]   22  cs/0502086v1   \n",
       "416                     [{'name': 'David M. W. Powers'}]   22  1503.06410v1   \n",
       "417    [{'name': 'Byron Knoll'}, {'name': 'Nando de F...   16   1108.3298v1   \n",
       "418    [{'name': 'Hector Allende'}, {'name': 'Emanuel...    3   1304.1014v2   \n",
       "419    [{'name': 'Yanwei Fu'}, {'name': 'Leonid Sigal'}]   24  1604.07093v1   \n",
       "...                                                  ...  ...           ...   \n",
       "40995  [{'name': 'Vitaly Feldman'}, {'name': 'Pravesh...   18   1404.4702v2   \n",
       "40996  [{'name': 'Orly Avner'}, {'name': 'Shie Mannor'}]   22   1404.5421v1   \n",
       "40997  [{'name': 'Ran Zhao'}, {'name': 'Deanna Needel...   22   1404.5899v1   \n",
       "40998  [{'name': 'Zongyan Huang'}, {'name': 'Matthew ...   25   1404.6369v1   \n",
       "40999  [{'name': 'Imen Trabelsi'}, {'name': 'Dorra Be...   27   1407.0380v1   \n",
       "\n",
       "                                                    link  month  \\\n",
       "415    [{'rel': 'alternate', 'href': 'http://arxiv.or...      2   \n",
       "416    [{'rel': 'alternate', 'href': 'http://arxiv.or...      3   \n",
       "417    [{'rel': 'alternate', 'href': 'http://arxiv.or...      8   \n",
       "418    [{'rel': 'alternate', 'href': 'http://arxiv.or...      4   \n",
       "419    [{'rel': 'alternate', 'href': 'http://arxiv.or...      4   \n",
       "...                                                  ...    ...   \n",
       "40995  [{'rel': 'alternate', 'href': 'http://arxiv.or...      4   \n",
       "40996  [{'rel': 'alternate', 'href': 'http://arxiv.or...      4   \n",
       "40997  [{'rel': 'alternate', 'href': 'http://arxiv.or...      4   \n",
       "40998  [{'rel': 'related', 'href': 'http://dx.doi.org...      4   \n",
       "40999  [{'rel': 'alternate', 'href': 'http://arxiv.or...      6   \n",
       "\n",
       "                                                 summary  \\\n",
       "415    The speech code is a vehicle of language: it d...   \n",
       "416    The F-measure or F-score is one of the most co...   \n",
       "417    PAQ8 is an open source lossless data compressi...   \n",
       "418    Recently, there has been a renewed interest in...   \n",
       "419    Despite significant progress in object categor...   \n",
       "...                                                  ...   \n",
       "40995  We study the complexity of learning and approx...   \n",
       "40996  We consider the problem of multiple users targ...   \n",
       "40997  In this paper, we compare and analyze clusteri...   \n",
       "40998  Cylindrical algebraic decomposition(CAD) is a ...   \n",
       "40999  Several speaker identification systems are giv...   \n",
       "\n",
       "                                                     tag  \\\n",
       "415    [{'term': 'cs.LG', 'scheme': 'http://arxiv.org...   \n",
       "416    [{'term': 'cs.IR', 'scheme': 'http://arxiv.org...   \n",
       "417    [{'term': 'cs.LG', 'scheme': 'http://arxiv.org...   \n",
       "418    [{'term': 'cs.CV', 'scheme': 'http://arxiv.org...   \n",
       "419    [{'term': 'cs.CV', 'scheme': 'http://arxiv.org...   \n",
       "...                                                  ...   \n",
       "40995  [{'term': 'cs.LG', 'scheme': 'http://arxiv.org...   \n",
       "40996  [{'term': 'cs.LG', 'scheme': 'http://arxiv.org...   \n",
       "40997  [{'term': 'math.NA', 'scheme': 'http://arxiv.o...   \n",
       "40998  [{'term': 'cs.SC', 'scheme': 'http://arxiv.org...   \n",
       "40999  [{'term': 'cs.SD', 'scheme': 'http://arxiv.org...   \n",
       "\n",
       "                                                   title  year  \n",
       "415               The Self-Organization of Speech Sounds  2005  \n",
       "416    What the F-measure doesn't measure: Features, ...  2015  \n",
       "417    A Machine Learning Perspective on Predictive C...  2011  \n",
       "418    A Novel Frank-Wolfe Algorithm. Analysis and Ap...  2013  \n",
       "419         Semi-supervised Vocabulary-informed Learning  2016  \n",
       "...                                                  ...   ...  \n",
       "40995  Nearly Tight Bounds on $\\ell_1$ Approximation ...  2014  \n",
       "40996    Concurrent bandits and cognitive radio networks  2014  \n",
       "40997  A Comparison of Clustering and Missing Data Me...  2014  \n",
       "40998  Applying machine learning to the problem of ch...  2014  \n",
       "40999  A Multi Level Data Fusion Approach for Speaker...  2014  \n",
       "\n",
       "[40585 rows x 9 columns]"
      ],
      "text/html": "<div>\n<style scoped>\n    .dataframe tbody tr th:only-of-type {\n        vertical-align: middle;\n    }\n\n    .dataframe tbody tr th {\n        vertical-align: top;\n    }\n\n    .dataframe thead th {\n        text-align: right;\n    }\n</style>\n<table border=\"1\" class=\"dataframe\">\n  <thead>\n    <tr style=\"text-align: right;\">\n      <th></th>\n      <th>author</th>\n      <th>day</th>\n      <th>id</th>\n      <th>link</th>\n      <th>month</th>\n      <th>summary</th>\n      <th>tag</th>\n      <th>title</th>\n      <th>year</th>\n    </tr>\n  </thead>\n  <tbody>\n    <tr>\n      <th>415</th>\n      <td>[{'name': 'Pierre-Yves Oudeyer'}]</td>\n      <td>22</td>\n      <td>cs/0502086v1</td>\n      <td>[{'rel': 'alternate', 'href': 'http://arxiv.or...</td>\n      <td>2</td>\n      <td>The speech code is a vehicle of language: it d...</td>\n      <td>[{'term': 'cs.LG', 'scheme': 'http://arxiv.org...</td>\n      <td>The Self-Organization of Speech Sounds</td>\n      <td>2005</td>\n    </tr>\n    <tr>\n      <th>416</th>\n      <td>[{'name': 'David M. W. Powers'}]</td>\n      <td>22</td>\n      <td>1503.06410v1</td>\n      <td>[{'rel': 'alternate', 'href': 'http://arxiv.or...</td>\n      <td>3</td>\n      <td>The F-measure or F-score is one of the most co...</td>\n      <td>[{'term': 'cs.IR', 'scheme': 'http://arxiv.org...</td>\n      <td>What the F-measure doesn't measure: Features, ...</td>\n      <td>2015</td>\n    </tr>\n    <tr>\n      <th>417</th>\n      <td>[{'name': 'Byron Knoll'}, {'name': 'Nando de F...</td>\n      <td>16</td>\n      <td>1108.3298v1</td>\n      <td>[{'rel': 'alternate', 'href': 'http://arxiv.or...</td>\n      <td>8</td>\n      <td>PAQ8 is an open source lossless data compressi...</td>\n      <td>[{'term': 'cs.LG', 'scheme': 'http://arxiv.org...</td>\n      <td>A Machine Learning Perspective on Predictive C...</td>\n      <td>2011</td>\n    </tr>\n    <tr>\n      <th>418</th>\n      <td>[{'name': 'Hector Allende'}, {'name': 'Emanuel...</td>\n      <td>3</td>\n      <td>1304.1014v2</td>\n      <td>[{'rel': 'alternate', 'href': 'http://arxiv.or...</td>\n      <td>4</td>\n      <td>Recently, there has been a renewed interest in...</td>\n      <td>[{'term': 'cs.CV', 'scheme': 'http://arxiv.org...</td>\n      <td>A Novel Frank-Wolfe Algorithm. Analysis and Ap...</td>\n      <td>2013</td>\n    </tr>\n    <tr>\n      <th>419</th>\n      <td>[{'name': 'Yanwei Fu'}, {'name': 'Leonid Sigal'}]</td>\n      <td>24</td>\n      <td>1604.07093v1</td>\n      <td>[{'rel': 'alternate', 'href': 'http://arxiv.or...</td>\n      <td>4</td>\n      <td>Despite significant progress in object categor...</td>\n      <td>[{'term': 'cs.CV', 'scheme': 'http://arxiv.org...</td>\n      <td>Semi-supervised Vocabulary-informed Learning</td>\n      <td>2016</td>\n    </tr>\n    <tr>\n      <th>...</th>\n      <td>...</td>\n      <td>...</td>\n      <td>...</td>\n      <td>...</td>\n      <td>...</td>\n      <td>...</td>\n      <td>...</td>\n      <td>...</td>\n      <td>...</td>\n    </tr>\n    <tr>\n      <th>40995</th>\n      <td>[{'name': 'Vitaly Feldman'}, {'name': 'Pravesh...</td>\n      <td>18</td>\n      <td>1404.4702v2</td>\n      <td>[{'rel': 'alternate', 'href': 'http://arxiv.or...</td>\n      <td>4</td>\n      <td>We study the complexity of learning and approx...</td>\n      <td>[{'term': 'cs.LG', 'scheme': 'http://arxiv.org...</td>\n      <td>Nearly Tight Bounds on $\\ell_1$ Approximation ...</td>\n      <td>2014</td>\n    </tr>\n    <tr>\n      <th>40996</th>\n      <td>[{'name': 'Orly Avner'}, {'name': 'Shie Mannor'}]</td>\n      <td>22</td>\n      <td>1404.5421v1</td>\n      <td>[{'rel': 'alternate', 'href': 'http://arxiv.or...</td>\n      <td>4</td>\n      <td>We consider the problem of multiple users targ...</td>\n      <td>[{'term': 'cs.LG', 'scheme': 'http://arxiv.org...</td>\n      <td>Concurrent bandits and cognitive radio networks</td>\n      <td>2014</td>\n    </tr>\n    <tr>\n      <th>40997</th>\n      <td>[{'name': 'Ran Zhao'}, {'name': 'Deanna Needel...</td>\n      <td>22</td>\n      <td>1404.5899v1</td>\n      <td>[{'rel': 'alternate', 'href': 'http://arxiv.or...</td>\n      <td>4</td>\n      <td>In this paper, we compare and analyze clusteri...</td>\n      <td>[{'term': 'math.NA', 'scheme': 'http://arxiv.o...</td>\n      <td>A Comparison of Clustering and Missing Data Me...</td>\n      <td>2014</td>\n    </tr>\n    <tr>\n      <th>40998</th>\n      <td>[{'name': 'Zongyan Huang'}, {'name': 'Matthew ...</td>\n      <td>25</td>\n      <td>1404.6369v1</td>\n      <td>[{'rel': 'related', 'href': 'http://dx.doi.org...</td>\n      <td>4</td>\n      <td>Cylindrical algebraic decomposition(CAD) is a ...</td>\n      <td>[{'term': 'cs.SC', 'scheme': 'http://arxiv.org...</td>\n      <td>Applying machine learning to the problem of ch...</td>\n      <td>2014</td>\n    </tr>\n    <tr>\n      <th>40999</th>\n      <td>[{'name': 'Imen Trabelsi'}, {'name': 'Dorra Be...</td>\n      <td>27</td>\n      <td>1407.0380v1</td>\n      <td>[{'rel': 'alternate', 'href': 'http://arxiv.or...</td>\n      <td>6</td>\n      <td>Several speaker identification systems are giv...</td>\n      <td>[{'term': 'cs.SD', 'scheme': 'http://arxiv.org...</td>\n      <td>A Multi Level Data Fusion Approach for Speaker...</td>\n      <td>2014</td>\n    </tr>\n  </tbody>\n</table>\n<p>40585 rows × 9 columns</p>\n</div>"
     },
     "metadata": {},
     "execution_count": 164
    }
   ],
   "source": [
    "data.loc[415:]"
   ]
  },
  {
   "cell_type": "code",
   "execution_count": 177,
   "metadata": {},
   "outputs": [
    {
     "output_type": "execute_result",
     "data": {
      "text/plain": [
       "391"
      ]
     },
     "metadata": {},
     "execution_count": 177
    }
   ],
   "source": [
    "list(data['id']).index('1604.05091v2')"
   ]
  },
  {
   "cell_type": "code",
   "execution_count": 6,
   "metadata": {},
   "outputs": [],
   "source": [
    "data['pdf_link_list'] = 'http://arxiv.org/pdf/' + data['id'] + '.pdf'"
   ]
  },
  {
   "cell_type": "code",
   "execution_count": null,
   "metadata": {},
   "outputs": [],
   "source": [
    "count = []\n",
    "for author_list in list(data['author']):\n",
    "    count.append(author_list.count(\"{'name':\"))\n",
    "data['author_count'] = count"
   ]
  },
  {
   "cell_type": "code",
   "execution_count": 12,
   "metadata": {},
   "outputs": [
    {
     "output_type": "stream",
     "name": "stderr",
     "text": [
      "  9%|▊         | 1192/13992 [2:36:58<28:05:36,  7.90s/it]\n"
     ]
    },
    {
     "output_type": "error",
     "ename": "KeyboardInterrupt",
     "evalue": "",
     "traceback": [
      "\u001b[0;31m---------------------------------------------------------------------------\u001b[0m",
      "\u001b[0;31mKeyboardInterrupt\u001b[0m                         Traceback (most recent call last)",
      "\u001b[0;32m<ipython-input-12-747432ecec48>\u001b[0m in \u001b[0;36m<module>\u001b[0;34m\u001b[0m\n\u001b[1;32m      4\u001b[0m     \u001b[0mtitle\u001b[0m \u001b[0;34m=\u001b[0m \u001b[0;34m(\u001b[0m\u001b[0mlist\u001b[0m\u001b[0;34m(\u001b[0m\u001b[0mdata\u001b[0m\u001b[0;34m[\u001b[0m\u001b[0;34m'id'\u001b[0m\u001b[0;34m]\u001b[0m\u001b[0;34m)\u001b[0m\u001b[0;34m[\u001b[0m\u001b[0midx\u001b[0m\u001b[0;34m]\u001b[0m\u001b[0;34m)\u001b[0m\u001b[0;34m.\u001b[0m\u001b[0mreplace\u001b[0m\u001b[0;34m(\u001b[0m\u001b[0;34m'/'\u001b[0m\u001b[0;34m,\u001b[0m\u001b[0;34m''\u001b[0m\u001b[0;34m)\u001b[0m\u001b[0;34m\u001b[0m\u001b[0m\n\u001b[1;32m      5\u001b[0m     \u001b[0;32mwith\u001b[0m \u001b[0mopen\u001b[0m\u001b[0;34m(\u001b[0m\u001b[0;34mf'pdf_papers/{title}.pdf'\u001b[0m\u001b[0;34m,\u001b[0m \u001b[0;34m'wb'\u001b[0m\u001b[0;34m)\u001b[0m \u001b[0;32mas\u001b[0m \u001b[0mf\u001b[0m\u001b[0;34m:\u001b[0m\u001b[0;34m\u001b[0m\u001b[0m\n\u001b[0;32m----> 6\u001b[0;31m         \u001b[0mf\u001b[0m\u001b[0;34m.\u001b[0m\u001b[0mwrite\u001b[0m\u001b[0;34m(\u001b[0m\u001b[0mr\u001b[0m\u001b[0;34m.\u001b[0m\u001b[0mcontent\u001b[0m\u001b[0;34m)\u001b[0m\u001b[0;34m\u001b[0m\u001b[0m\n\u001b[0m\u001b[1;32m      7\u001b[0m     \u001b[0;31m# time.sleep(3)\u001b[0m\u001b[0;34m\u001b[0m\u001b[0;34m\u001b[0m\u001b[0m\n\u001b[1;32m      8\u001b[0m \u001b[0;34m\u001b[0m\u001b[0m\n",
      "\u001b[0;32m/Library/Frameworks/Python.framework/Versions/3.7/lib/python3.7/site-packages/requests/models.py\u001b[0m in \u001b[0;36mcontent\u001b[0;34m(self)\u001b[0m\n\u001b[1;32m    826\u001b[0m                 \u001b[0mself\u001b[0m\u001b[0;34m.\u001b[0m\u001b[0m_content\u001b[0m \u001b[0;34m=\u001b[0m \u001b[0;32mNone\u001b[0m\u001b[0;34m\u001b[0m\u001b[0m\n\u001b[1;32m    827\u001b[0m             \u001b[0;32melse\u001b[0m\u001b[0;34m:\u001b[0m\u001b[0;34m\u001b[0m\u001b[0m\n\u001b[0;32m--> 828\u001b[0;31m                 \u001b[0mself\u001b[0m\u001b[0;34m.\u001b[0m\u001b[0m_content\u001b[0m \u001b[0;34m=\u001b[0m \u001b[0;34mb''\u001b[0m\u001b[0;34m.\u001b[0m\u001b[0mjoin\u001b[0m\u001b[0;34m(\u001b[0m\u001b[0mself\u001b[0m\u001b[0;34m.\u001b[0m\u001b[0miter_content\u001b[0m\u001b[0;34m(\u001b[0m\u001b[0mCONTENT_CHUNK_SIZE\u001b[0m\u001b[0;34m)\u001b[0m\u001b[0;34m)\u001b[0m \u001b[0;32mor\u001b[0m \u001b[0;34mb''\u001b[0m\u001b[0;34m\u001b[0m\u001b[0m\n\u001b[0m\u001b[1;32m    829\u001b[0m \u001b[0;34m\u001b[0m\u001b[0m\n\u001b[1;32m    830\u001b[0m         \u001b[0mself\u001b[0m\u001b[0;34m.\u001b[0m\u001b[0m_content_consumed\u001b[0m \u001b[0;34m=\u001b[0m \u001b[0;32mTrue\u001b[0m\u001b[0;34m\u001b[0m\u001b[0m\n",
      "\u001b[0;32m/Library/Frameworks/Python.framework/Versions/3.7/lib/python3.7/site-packages/requests/models.py\u001b[0m in \u001b[0;36mgenerate\u001b[0;34m()\u001b[0m\n\u001b[1;32m    748\u001b[0m             \u001b[0;32mif\u001b[0m \u001b[0mhasattr\u001b[0m\u001b[0;34m(\u001b[0m\u001b[0mself\u001b[0m\u001b[0;34m.\u001b[0m\u001b[0mraw\u001b[0m\u001b[0;34m,\u001b[0m \u001b[0;34m'stream'\u001b[0m\u001b[0;34m)\u001b[0m\u001b[0;34m:\u001b[0m\u001b[0;34m\u001b[0m\u001b[0m\n\u001b[1;32m    749\u001b[0m                 \u001b[0;32mtry\u001b[0m\u001b[0;34m:\u001b[0m\u001b[0;34m\u001b[0m\u001b[0m\n\u001b[0;32m--> 750\u001b[0;31m                     \u001b[0;32mfor\u001b[0m \u001b[0mchunk\u001b[0m \u001b[0;32min\u001b[0m \u001b[0mself\u001b[0m\u001b[0;34m.\u001b[0m\u001b[0mraw\u001b[0m\u001b[0;34m.\u001b[0m\u001b[0mstream\u001b[0m\u001b[0;34m(\u001b[0m\u001b[0mchunk_size\u001b[0m\u001b[0;34m,\u001b[0m \u001b[0mdecode_content\u001b[0m\u001b[0;34m=\u001b[0m\u001b[0;32mTrue\u001b[0m\u001b[0;34m)\u001b[0m\u001b[0;34m:\u001b[0m\u001b[0;34m\u001b[0m\u001b[0m\n\u001b[0m\u001b[1;32m    751\u001b[0m                         \u001b[0;32myield\u001b[0m \u001b[0mchunk\u001b[0m\u001b[0;34m\u001b[0m\u001b[0m\n\u001b[1;32m    752\u001b[0m                 \u001b[0;32mexcept\u001b[0m \u001b[0mProtocolError\u001b[0m \u001b[0;32mas\u001b[0m \u001b[0me\u001b[0m\u001b[0;34m:\u001b[0m\u001b[0;34m\u001b[0m\u001b[0m\n",
      "\u001b[0;32m/Library/Frameworks/Python.framework/Versions/3.7/lib/python3.7/site-packages/urllib3/response.py\u001b[0m in \u001b[0;36mstream\u001b[0;34m(self, amt, decode_content)\u001b[0m\n\u001b[1;32m    562\u001b[0m         \u001b[0;32melse\u001b[0m\u001b[0;34m:\u001b[0m\u001b[0;34m\u001b[0m\u001b[0m\n\u001b[1;32m    563\u001b[0m             \u001b[0;32mwhile\u001b[0m \u001b[0;32mnot\u001b[0m \u001b[0mis_fp_closed\u001b[0m\u001b[0;34m(\u001b[0m\u001b[0mself\u001b[0m\u001b[0;34m.\u001b[0m\u001b[0m_fp\u001b[0m\u001b[0;34m)\u001b[0m\u001b[0;34m:\u001b[0m\u001b[0;34m\u001b[0m\u001b[0m\n\u001b[0;32m--> 564\u001b[0;31m                 \u001b[0mdata\u001b[0m \u001b[0;34m=\u001b[0m \u001b[0mself\u001b[0m\u001b[0;34m.\u001b[0m\u001b[0mread\u001b[0m\u001b[0;34m(\u001b[0m\u001b[0mamt\u001b[0m\u001b[0;34m=\u001b[0m\u001b[0mamt\u001b[0m\u001b[0;34m,\u001b[0m \u001b[0mdecode_content\u001b[0m\u001b[0;34m=\u001b[0m\u001b[0mdecode_content\u001b[0m\u001b[0;34m)\u001b[0m\u001b[0;34m\u001b[0m\u001b[0m\n\u001b[0m\u001b[1;32m    565\u001b[0m \u001b[0;34m\u001b[0m\u001b[0m\n\u001b[1;32m    566\u001b[0m                 \u001b[0;32mif\u001b[0m \u001b[0mdata\u001b[0m\u001b[0;34m:\u001b[0m\u001b[0;34m\u001b[0m\u001b[0m\n",
      "\u001b[0;32m/Library/Frameworks/Python.framework/Versions/3.7/lib/python3.7/site-packages/urllib3/response.py\u001b[0m in \u001b[0;36mread\u001b[0;34m(self, amt, decode_content, cache_content)\u001b[0m\n\u001b[1;32m    505\u001b[0m             \u001b[0;32melse\u001b[0m\u001b[0;34m:\u001b[0m\u001b[0;34m\u001b[0m\u001b[0m\n\u001b[1;32m    506\u001b[0m                 \u001b[0mcache_content\u001b[0m \u001b[0;34m=\u001b[0m \u001b[0;32mFalse\u001b[0m\u001b[0;34m\u001b[0m\u001b[0m\n\u001b[0;32m--> 507\u001b[0;31m                 \u001b[0mdata\u001b[0m \u001b[0;34m=\u001b[0m \u001b[0mself\u001b[0m\u001b[0;34m.\u001b[0m\u001b[0m_fp\u001b[0m\u001b[0;34m.\u001b[0m\u001b[0mread\u001b[0m\u001b[0;34m(\u001b[0m\u001b[0mamt\u001b[0m\u001b[0;34m)\u001b[0m \u001b[0;32mif\u001b[0m \u001b[0;32mnot\u001b[0m \u001b[0mfp_closed\u001b[0m \u001b[0;32melse\u001b[0m \u001b[0;34mb\"\"\u001b[0m\u001b[0;34m\u001b[0m\u001b[0m\n\u001b[0m\u001b[1;32m    508\u001b[0m                 if (\n\u001b[1;32m    509\u001b[0m                     \u001b[0mamt\u001b[0m \u001b[0;34m!=\u001b[0m \u001b[0;36m0\u001b[0m \u001b[0;32mand\u001b[0m \u001b[0;32mnot\u001b[0m \u001b[0mdata\u001b[0m\u001b[0;34m\u001b[0m\u001b[0m\n",
      "\u001b[0;32m/Library/Frameworks/Python.framework/Versions/3.7/lib/python3.7/http/client.py\u001b[0m in \u001b[0;36mread\u001b[0;34m(self, amt)\u001b[0m\n\u001b[1;32m    445\u001b[0m             \u001b[0;31m# Amount is given, implement using readinto\u001b[0m\u001b[0;34m\u001b[0m\u001b[0;34m\u001b[0m\u001b[0m\n\u001b[1;32m    446\u001b[0m             \u001b[0mb\u001b[0m \u001b[0;34m=\u001b[0m \u001b[0mbytearray\u001b[0m\u001b[0;34m(\u001b[0m\u001b[0mamt\u001b[0m\u001b[0;34m)\u001b[0m\u001b[0;34m\u001b[0m\u001b[0m\n\u001b[0;32m--> 447\u001b[0;31m             \u001b[0mn\u001b[0m \u001b[0;34m=\u001b[0m \u001b[0mself\u001b[0m\u001b[0;34m.\u001b[0m\u001b[0mreadinto\u001b[0m\u001b[0;34m(\u001b[0m\u001b[0mb\u001b[0m\u001b[0;34m)\u001b[0m\u001b[0;34m\u001b[0m\u001b[0m\n\u001b[0m\u001b[1;32m    448\u001b[0m             \u001b[0;32mreturn\u001b[0m \u001b[0mmemoryview\u001b[0m\u001b[0;34m(\u001b[0m\u001b[0mb\u001b[0m\u001b[0;34m)\u001b[0m\u001b[0;34m[\u001b[0m\u001b[0;34m:\u001b[0m\u001b[0mn\u001b[0m\u001b[0;34m]\u001b[0m\u001b[0;34m.\u001b[0m\u001b[0mtobytes\u001b[0m\u001b[0;34m(\u001b[0m\u001b[0;34m)\u001b[0m\u001b[0;34m\u001b[0m\u001b[0m\n\u001b[1;32m    449\u001b[0m         \u001b[0;32melse\u001b[0m\u001b[0;34m:\u001b[0m\u001b[0;34m\u001b[0m\u001b[0m\n",
      "\u001b[0;32m/Library/Frameworks/Python.framework/Versions/3.7/lib/python3.7/http/client.py\u001b[0m in \u001b[0;36mreadinto\u001b[0;34m(self, b)\u001b[0m\n\u001b[1;32m    489\u001b[0m         \u001b[0;31m# connection, and the user is reading more bytes than will be provided\u001b[0m\u001b[0;34m\u001b[0m\u001b[0;34m\u001b[0m\u001b[0m\n\u001b[1;32m    490\u001b[0m         \u001b[0;31m# (for example, reading in 1k chunks)\u001b[0m\u001b[0;34m\u001b[0m\u001b[0;34m\u001b[0m\u001b[0m\n\u001b[0;32m--> 491\u001b[0;31m         \u001b[0mn\u001b[0m \u001b[0;34m=\u001b[0m \u001b[0mself\u001b[0m\u001b[0;34m.\u001b[0m\u001b[0mfp\u001b[0m\u001b[0;34m.\u001b[0m\u001b[0mreadinto\u001b[0m\u001b[0;34m(\u001b[0m\u001b[0mb\u001b[0m\u001b[0;34m)\u001b[0m\u001b[0;34m\u001b[0m\u001b[0m\n\u001b[0m\u001b[1;32m    492\u001b[0m         \u001b[0;32mif\u001b[0m \u001b[0;32mnot\u001b[0m \u001b[0mn\u001b[0m \u001b[0;32mand\u001b[0m \u001b[0mb\u001b[0m\u001b[0;34m:\u001b[0m\u001b[0;34m\u001b[0m\u001b[0m\n\u001b[1;32m    493\u001b[0m             \u001b[0;31m# Ideally, we would raise IncompleteRead if the content-length\u001b[0m\u001b[0;34m\u001b[0m\u001b[0;34m\u001b[0m\u001b[0m\n",
      "\u001b[0;32m/Library/Frameworks/Python.framework/Versions/3.7/lib/python3.7/socket.py\u001b[0m in \u001b[0;36mreadinto\u001b[0;34m(self, b)\u001b[0m\n\u001b[1;32m    587\u001b[0m         \u001b[0;32mwhile\u001b[0m \u001b[0;32mTrue\u001b[0m\u001b[0;34m:\u001b[0m\u001b[0;34m\u001b[0m\u001b[0m\n\u001b[1;32m    588\u001b[0m             \u001b[0;32mtry\u001b[0m\u001b[0;34m:\u001b[0m\u001b[0;34m\u001b[0m\u001b[0m\n\u001b[0;32m--> 589\u001b[0;31m                 \u001b[0;32mreturn\u001b[0m \u001b[0mself\u001b[0m\u001b[0;34m.\u001b[0m\u001b[0m_sock\u001b[0m\u001b[0;34m.\u001b[0m\u001b[0mrecv_into\u001b[0m\u001b[0;34m(\u001b[0m\u001b[0mb\u001b[0m\u001b[0;34m)\u001b[0m\u001b[0;34m\u001b[0m\u001b[0m\n\u001b[0m\u001b[1;32m    590\u001b[0m             \u001b[0;32mexcept\u001b[0m \u001b[0mtimeout\u001b[0m\u001b[0;34m:\u001b[0m\u001b[0;34m\u001b[0m\u001b[0m\n\u001b[1;32m    591\u001b[0m                 \u001b[0mself\u001b[0m\u001b[0;34m.\u001b[0m\u001b[0m_timeout_occurred\u001b[0m \u001b[0;34m=\u001b[0m \u001b[0;32mTrue\u001b[0m\u001b[0;34m\u001b[0m\u001b[0m\n",
      "\u001b[0;31mKeyboardInterrupt\u001b[0m: "
     ]
    }
   ],
   "source": [
    "for idx in tqdm(range(27008,len(list(data['pdf_link_list'])))):\n",
    "    pdf_url = list(data['pdf_link_list'])[idx]\n",
    "    r = requests.get(pdf_url, stream=True)\n",
    "    title = (list(data['id'])[idx]).replace('/','')\n",
    "    with open(f'pdf_papers/{title}.pdf', 'wb') as f:\n",
    "        f.write(r.content)\n",
    "    # time.sleep(3)\n",
    "    "
   ]
  },
  {
   "cell_type": "code",
   "execution_count": null,
   "metadata": {},
   "outputs": [],
   "source": [
    "import urllib.request\n",
    "urllib.request.urlopen(...)"
   ]
  },
  {
   "cell_type": "code",
   "execution_count": 54,
   "metadata": {},
   "outputs": [],
   "source": []
  },
  {
   "cell_type": "code",
   "execution_count": null,
   "metadata": {},
   "outputs": [],
   "source": []
  }
 ]
}